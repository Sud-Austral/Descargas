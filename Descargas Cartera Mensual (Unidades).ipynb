{
 "cells": [
  {
   "cell_type": "code",
   "execution_count": 1,
   "metadata": {},
   "outputs": [],
   "source": [
    "import pandas as pd"
   ]
  },
  {
   "cell_type": "code",
   "execution_count": 2,
   "metadata": {},
   "outputs": [],
   "source": [
    "df1996 = pd.read_excel(r\"C:\\Users\\gusti\\OneDrive\\Documentos\\Carteras históricas de Inversión de los Fondos de Pensiones\\cartera_mensual_1996.xlsx\")\n",
    "df1997 = pd.read_excel(r\"C:\\Users\\gusti\\OneDrive\\Documentos\\Carteras históricas de Inversión de los Fondos de Pensiones\\cartera_mensual_1997.xlsx\")\n",
    "df1998 = pd.read_excel(r\"C:\\Users\\gusti\\OneDrive\\Documentos\\Carteras históricas de Inversión de los Fondos de Pensiones\\cartera_mensual_1998.xlsx\")\n",
    "df1999 = pd.read_excel(r\"C:\\Users\\gusti\\OneDrive\\Documentos\\Carteras históricas de Inversión de los Fondos de Pensiones\\cartera_mensual_1999.xlsx\")\n",
    "df2000 = pd.read_excel(r\"C:\\Users\\gusti\\OneDrive\\Documentos\\Carteras históricas de Inversión de los Fondos de Pensiones\\cartera_mensual_2000.xlsx\")\n",
    "df2001 = pd.read_excel(r\"C:\\Users\\gusti\\OneDrive\\Documentos\\Carteras históricas de Inversión de los Fondos de Pensiones\\cartera_mensual_2001.xlsx\")\n",
    "df2002 = pd.read_excel(r\"C:\\Users\\gusti\\OneDrive\\Documentos\\Carteras históricas de Inversión de los Fondos de Pensiones\\cartera_mensual_2002.xlsx\")\n",
    "df2003 = pd.read_excel(r\"C:\\Users\\gusti\\OneDrive\\Documentos\\Carteras históricas de Inversión de los Fondos de Pensiones\\cartera_mensual_2003.xlsx\")\n",
    "df2004 = pd.read_excel(r\"C:\\Users\\gusti\\OneDrive\\Documentos\\Carteras históricas de Inversión de los Fondos de Pensiones\\cartera_mensual_2004.xlsx\")\n",
    "df2005 = pd.read_excel(r\"C:\\Users\\gusti\\OneDrive\\Documentos\\Carteras históricas de Inversión de los Fondos de Pensiones\\cartera_mensual_2005.xlsx\")\n",
    "df2006 = pd.read_excel(r\"C:\\Users\\gusti\\OneDrive\\Documentos\\Carteras históricas de Inversión de los Fondos de Pensiones\\cartera_mensual_2006.xlsx\")\n",
    "df2007 = pd.read_excel(r\"C:\\Users\\gusti\\OneDrive\\Documentos\\Carteras históricas de Inversión de los Fondos de Pensiones\\cartera_mensual_2007.xlsx\")\n",
    "df2008 = pd.read_excel(r\"C:\\Users\\gusti\\OneDrive\\Documentos\\Carteras históricas de Inversión de los Fondos de Pensiones\\cartera_mensual_2008.xlsx\")\n",
    "df2009 = pd.read_excel(r\"C:\\Users\\gusti\\OneDrive\\Documentos\\Carteras históricas de Inversión de los Fondos de Pensiones\\cartera_mensual_2009.xlsx\")\n",
    "df2010 = pd.read_excel(r\"C:\\Users\\gusti\\OneDrive\\Documentos\\Carteras históricas de Inversión de los Fondos de Pensiones\\cartera_mensual_2010.xlsx\")\n",
    "df2011 = pd.read_excel(r\"C:\\Users\\gusti\\OneDrive\\Documentos\\Carteras históricas de Inversión de los Fondos de Pensiones\\cartera_mensual_2011.xlsx\")\n",
    "df2012 = pd.read_excel(r\"C:\\Users\\gusti\\OneDrive\\Documentos\\Carteras históricas de Inversión de los Fondos de Pensiones\\cartera_mensual_2012.xlsx\")\n",
    "df2013 = pd.read_excel(r\"C:\\Users\\gusti\\OneDrive\\Documentos\\Carteras históricas de Inversión de los Fondos de Pensiones\\cartera_mensual_2013.xlsx\")\n",
    "df2014 = pd.read_excel(r\"C:\\Users\\gusti\\OneDrive\\Documentos\\Carteras históricas de Inversión de los Fondos de Pensiones\\cartera_mensual_2014.xlsx\")\n",
    "df2015 = pd.read_excel(r\"C:\\Users\\gusti\\OneDrive\\Documentos\\Carteras históricas de Inversión de los Fondos de Pensiones\\cartera_mensual_2015.xlsx\")\n",
    "df2016 = pd.read_excel(r\"C:\\Users\\gusti\\OneDrive\\Documentos\\Carteras históricas de Inversión de los Fondos de Pensiones\\cartera_mensual_2016.xlsx\")\n",
    "df2017 = pd.read_excel(r\"C:\\Users\\gusti\\OneDrive\\Documentos\\Carteras históricas de Inversión de los Fondos de Pensiones\\cartera_mensual_2017.xlsx\")\n",
    "df2018 = pd.read_excel(r\"C:\\Users\\gusti\\OneDrive\\Documentos\\Carteras históricas de Inversión de los Fondos de Pensiones\\cartera_mensual_2018.xlsx\")\n",
    "df2019 = pd.read_excel(r\"C:\\Users\\gusti\\OneDrive\\Documentos\\Carteras históricas de Inversión de los Fondos de Pensiones\\cartera_mensual_2019.xlsx\")\n",
    "df2020 = pd.read_excel(r\"C:\\Users\\gusti\\OneDrive\\Documentos\\Carteras históricas de Inversión de los Fondos de Pensiones\\cartera_mensual_2020.xlsx\", sheet_name=\"cartera_mensual_2020\")\n",
    "df2021 = pd.read_excel(r\"C:\\Users\\gusti\\OneDrive\\Documentos\\Carteras históricas de Inversión de los Fondos de Pensiones\\cartera_mensual_2021.xlsx\")"
   ]
  },
  {
   "cell_type": "code",
   "execution_count": 3,
   "metadata": {},
   "outputs": [],
   "source": [
    "df1996[\"Año\"] = \"1996\"\n",
    "df1997[\"Año\"] = \"1997\"\n",
    "df1998[\"Año\"] = \"1998\"\n",
    "df1999[\"Año\"] = \"1999\"\n",
    "df2000[\"Año\"] = \"2000\"\n",
    "df2001[\"Año\"] = \"2001\"\n",
    "df2002[\"Año\"] = \"2002\"\n",
    "df2003[\"Año\"] = \"2003\"\n",
    "df2004[\"Año\"] = \"2004\"\n",
    "df2005[\"Año\"] = \"2005\"\n",
    "df2006[\"Año\"] = \"2006\"\n",
    "df2007[\"Año\"] = \"2007\"\n",
    "df2008[\"Año\"] = \"2008\"\n",
    "df2009[\"Año\"] = \"2009\"\n",
    "df2010[\"Año\"] = \"2010\"\n",
    "df2011[\"Año\"] = \"2011\"\n",
    "df2012[\"Año\"] = \"2012\"\n",
    "df2013[\"Año\"] = \"2013\"\n",
    "df2014[\"Año\"] = \"2014\"\n",
    "df2015[\"Año\"] = \"2015\"\n",
    "df2016[\"Año\"] = \"2016\"\n",
    "df2017[\"Año\"] = \"2017\"\n",
    "df2018[\"Año\"] = \"2018\"\n",
    "df2019[\"Año\"] = \"2019\"\n",
    "df2021[\"Año\"] = \"2021\""
   ]
  },
  {
   "cell_type": "code",
   "execution_count": 4,
   "metadata": {},
   "outputs": [],
   "source": [
    "def mesATexto(mes):\n",
    "    if (mes < 10):\n",
    "        return \"0\"+str(mes)\n",
    "    else:\n",
    "        return str(mes)"
   ]
  },
  {
   "cell_type": "code",
   "execution_count": 5,
   "metadata": {},
   "outputs": [],
   "source": [
    "df2020[\"MES\"] = df2020[\"mes\"].apply(mesATexto)\n",
    "df2020[\"precio\"] = df2020[\"precio (CLP)\"]\n",
    "df2020[\"Año\"] = df2020[\"Año\"].apply(lambda x: str(int(x)))\n",
    "df2020[\"dia\"] = df2020[\"dia\"].apply(lambda x: str(int(x)))\n",
    "df2020[\"fecha\"] = df2020[\"Año\"].str.cat(df2020[\"MES\"], sep = \"\").str.cat(df2020[\"dia\"], sep = \"\") \n",
    "\n",
    "del df2020['inversion (CLP)']\n",
    "del df2020['precio (CLP)']\n",
    "del df2020['dia']\n",
    "del df2020['mes']\n",
    "del df2020['MES']"
   ]
  },
  {
   "cell_type": "code",
   "execution_count": 6,
   "metadata": {},
   "outputs": [],
   "source": [
    "df2020[\"fecha\"] = df2020[\"fecha\"].apply(lambda x: x.replace(\"\\n\", \"\"))"
   ]
  },
  {
   "cell_type": "code",
   "execution_count": 7,
   "metadata": {},
   "outputs": [],
   "source": [
    "dfFinal = pd.concat([df1996,df1997,df1998,df1999,df2000,df2001,df2002,df2003,df2004,df2005,df2006,df2007,df2008,df2009,df2010,df2011,df2012,df2013,df2014,df2015,df2016,df2017,df2018,df2019,df2020,df2021])"
   ]
  },
  {
   "cell_type": "code",
   "execution_count": 8,
   "metadata": {},
   "outputs": [],
   "source": [
    "dfFinal[\"Mes\"] = dfFinal[\"fecha\"].apply(lambda x: str(x)[4:6])"
   ]
  },
  {
   "cell_type": "code",
   "execution_count": 9,
   "metadata": {},
   "outputs": [],
   "source": [
    "del dfFinal['nemotecnico_del_instrumento']\n",
    "del dfFinal['precio']\n",
    "del dfFinal['inversion']\n",
    "del dfFinal['moneda_contrato_forward']\n",
    "del dfFinal['precio_ejercicio_forward']\n",
    "del dfFinal['plazo_economico']\n",
    "del dfFinal['tasa_pactada_del_fondo_swap']\n",
    "del dfFinal['tasa_pactada_de_la_contraparte_s']\n",
    "del dfFinal['fecha']"
   ]
  },
  {
   "cell_type": "code",
   "execution_count": 10,
   "metadata": {},
   "outputs": [],
   "source": [
    "dfFinal[\"grupo_economico\"] =dfFinal[\"grupo_economico\"].fillna(\"\")\n",
    "dfFinal[\"nacionalidad_del_emisor\"] =dfFinal[\"nacionalidad_del_emisor\"].fillna(\"\")\n",
    "dfFinal[\"unidad_de_reajuste_de_moneda\"] =dfFinal[\"unidad_de_reajuste_de_moneda\"].fillna(\"\")"
   ]
  },
  {
   "cell_type": "code",
   "execution_count": 11,
   "metadata": {},
   "outputs": [],
   "source": [
    "dfGroup = dfFinal.groupby(['afp', 'tipo_de_fondo', 'tipo_de_instrumento',\n",
    "   'nombre_del_emisor', 'nacionalidad_del_emisor',\n",
    "   'unidad_de_reajuste_de_moneda', 'grupo_economico',\n",
    "   'moneda_objeto_forward', 'Año', 'Mes']).sum()\n",
    "dfGroup = dfGroup.reset_index()"
   ]
  },
  {
   "cell_type": "code",
   "execution_count": 12,
   "metadata": {},
   "outputs": [],
   "source": [
    "dfpivot = dfGroup.pivot( index=[ 'afp', 'tipo_de_fondo', 'tipo_de_instrumento',\n",
    "   'nombre_del_emisor', 'nacionalidad_del_emisor',\n",
    "   'unidad_de_reajuste_de_moneda', 'grupo_economico',\n",
    "   'moneda_objeto_forward', 'Año'],columns=['Mes'], values='unidades')\n",
    "dfpivot = dfpivot.reset_index()"
   ]
  },
  {
   "cell_type": "code",
   "execution_count": 13,
   "metadata": {},
   "outputs": [],
   "source": [
    "dfpivot[\"Enero\"] = dfpivot[\"01\"]\n",
    "dfpivot[\"Febrero\"] = dfpivot[\"02\"]\n",
    "dfpivot[\"Marzo\"] = dfpivot[\"03\"]\n",
    "dfpivot[\"Abril\"] = dfpivot[\"04\"]\n",
    "dfpivot[\"Mayo\"] = dfpivot[\"05\"]\n",
    "dfpivot[\"Junio\"] = dfpivot[\"06\"]\n",
    "dfpivot[\"Julio\"] = dfpivot[\"07\"]\n",
    "dfpivot[\"Agosto\"] = dfpivot[\"08\"]\n",
    "dfpivot[\"Septiembre\"] = dfpivot[\"09\"]\n",
    "dfpivot[\"Octubre\"] = dfpivot[\"10\"]\n",
    "dfpivot[\"Noviembre\"] = dfpivot[\"11\"]\n",
    "dfpivot[\"Diciembre\"] = dfpivot[\"12\"]"
   ]
  },
  {
   "cell_type": "code",
   "execution_count": 14,
   "metadata": {},
   "outputs": [],
   "source": [
    "del dfpivot['01']\n",
    "del dfpivot['02']\n",
    "del dfpivot['03']\n",
    "del dfpivot['04']\n",
    "del dfpivot['05']\n",
    "del dfpivot['06']\n",
    "del dfpivot['07']\n",
    "del dfpivot['08']\n",
    "del dfpivot['09']\n",
    "del dfpivot['10']\n",
    "del dfpivot['11']\n",
    "del dfpivot['12']"
   ]
  },
  {
   "cell_type": "code",
   "execution_count": 15,
   "metadata": {},
   "outputs": [],
   "source": [
    "dfpivot.to_excel(\"ConsolidadoUnidades.xlsx\", index=False)"
   ]
  },
  {
   "cell_type": "code",
   "execution_count": null,
   "metadata": {},
   "outputs": [],
   "source": []
  }
 ],
 "metadata": {
  "kernelspec": {
   "display_name": "Python 3",
   "language": "python",
   "name": "python3"
  },
  "language_info": {
   "codemirror_mode": {
    "name": "ipython",
    "version": 3
   },
   "file_extension": ".py",
   "mimetype": "text/x-python",
   "name": "python",
   "nbconvert_exporter": "python",
   "pygments_lexer": "ipython3",
   "version": "3.8.5"
  }
 },
 "nbformat": 4,
 "nbformat_minor": 4
}
